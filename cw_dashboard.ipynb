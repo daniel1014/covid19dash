{
 "cells": [
  {
   "cell_type": "code",
   "execution_count": 1,
   "metadata": {},
   "outputs": [],
   "source": [
    "from IPython.display import clear_output\n",
    "import ipywidgets as wdg\n",
    "import pandas as pd\n",
    "import matplotlib.pyplot as plt\n",
    "import json\n",
    "from uk_covid19 import Cov19API\n",
    "import time\n",
    "%matplotlib inline\n",
    "# make figures larger\n",
    "plt.rcParams['figure.dpi'] = 100"
   ]
  },
  {
   "cell_type": "markdown",
   "metadata": {},
   "source": [
    "# Covid-19 Dashboard"
   ]
  },
  {
   "cell_type": "markdown",
   "metadata": {},
   "source": [
    "## A plot graph about the number of new cases & new vaccines given by publish date"
   ]
  },
  {
   "cell_type": "markdown",
   "metadata": {},
   "source": [
    "This is a plot graph(imported by matplotlib.pyplot) which shows the number of new cases versus the number of vaccines given by publish date in England. All data is accessed through a web-based API from [Public Health England](https://www.gov.uk/government/organisations/public-health-england) (PHE) with json content. In data wrangling, it involves pandas library to create the Dataframe; In visualisation part, it involves ipywidgets and matplotlib.pyplot to create and display different interactive controls and the graphs. \n",
    "\n",
    "On top of the graph, a \"UPDATE\" button can be used to retrieve the latest data prior to 90 days and then refresh the graph immediately. \n",
    "Besides, a ```SelectMultiple``` widget is available for you to select the stats that to be shown in the graph (Multiple values can be selected with shift and/or ctrl (or command) pressed and mouse clicks), while a ```RadioButtons``` widget is available for you to select the linear or log scale in the graph.  \n",
    "Note: To facilitate data analysis and have a better looking of the graph, this graph will only show data up to 3 months prior the retrieving date. "
   ]
  },
  {
   "cell_type": "code",
   "execution_count": 2,
   "metadata": {},
   "outputs": [],
   "source": [
    "# Load JSON files and store the raw data in variable jsondata.\n",
    "jsondata_case = 'casevaccine.json'\n",
    "\n",
    "def parse_date(datestring):\n",
    "    \"\"\" Convert a date string into a pandas datetime object \"\"\"\n",
    "    return pd.to_datetime(datestring, format=\"%Y-%m-%d\")\n",
    "\n",
    "def wrangle_data_case(rawdata):\n",
    "    \"\"\" Parameters: rawdata - data from json file. Returns a dataframe.\n",
    "    It wrangles the data, creates the dataframe and fills missing data. \"\"\"\n",
    "    with open(rawdata, \"rt\") as INFILE:\n",
    "        data=json.load(INFILE)\n",
    "    datalist = data['data']\n",
    "    datalist = list(datalist[:91])          # select the data before 3 months only \n",
    "    dates = [dictionary['date'] for dictionary in datalist]\n",
    "    dates.sort()\n",
    "    startdate=parse_date(dates[0])\n",
    "    enddate=parse_date(dates[-1])\n",
    "    index=pd.date_range(startdate, enddate, freq='D')   # return a list of date by startdate and enddate \n",
    "    casetest_df=pd.DataFrame(index=index, columns=['cases', 'vaccines'])       # creates the dataframe with index and columns only\n",
    "    for entry in datalist:\n",
    "        date=parse_date(entry['date'])\n",
    "        for column in ['cases','vaccines']:\n",
    "            if pd.isna(casetest_df.loc[date, column]):      #check if the values are null\n",
    "                value = float(entry[column]) if entry[column]!=None else 0.0         \n",
    "                casetest_df.loc[date,column] = value        # fillin corresponding value into DataFrame\n",
    "    casetest_df.fillna(0.0,inplace=True)\n",
    "    return casetest_df\n",
    "\n",
    "casetest_df=wrangle_data_case(jsondata_case)\n",
    "\n"
   ]
  },
  {
   "cell_type": "code",
   "execution_count": 3,
   "metadata": {},
   "outputs": [],
   "source": [
    "def access_api_case():\n",
    "    filters = ['areaType=nation',\n",
    "    'areaName=England']\n",
    "    structure = {\n",
    "        \"date\":\"date\",\n",
    "        \"cases\":\"newCasesByPublishDate\",\n",
    "        \"vaccines\":\"newVaccinesGivenByPublishDate\"\n",
    "        }\n",
    "    api = Cov19API(filters=filters, structure=structure)\n",
    "    casetest=api.get_json()                         # it's a dict\n",
    "    with open(\"casevaccine.json\", \"wt\") as OUTF:       # save it into .json from dict\n",
    "        json.dump(casetest, OUTF)\n",
    "    return(\"casevaccine.json\")\n",
    "      \n",
    "def api_button_callback_case(button):\n",
    "    \"\"\" Accesses API, wrangles data, updates global variable df used for plotting.\n",
    "        A warning statement will pop out if the raw data is unavailable \"\"\"\n",
    "    try:\n",
    "        apidata=access_api_case() \n",
    "    except:\n",
    "        raise 'The data cannot be updated as the Public Health England (PHE) server cannot be reached right now '   # display warning signal when update function does not work\n",
    "    else:\n",
    "        global casetest_df\n",
    "        casetest_df = wrangle_data_case(apidata)\n",
    "        refresh_graph()\n",
    "    finally:\n",
    "        apibutton_case.icon=\"check\"          # give user some feedbacks when the graph has been refreshed\n",
    "        apibutton_case.description=\"Data updated\"\n",
    "        apibutton_case.button_style='success'\n",
    "        apibutton_case.disabled=False\n",
    "    \n",
    "apibutton_case=wdg.Button(\n",
    "    description='Update data', \n",
    "    disabled=False,\n",
    "    button_style='warning', \n",
    "    tooltip=\"Click to download current Public Health England data\",\n",
    "    icon='repeat'\n",
    ")\n",
    "\n",
    "apibutton_case.on_click(api_button_callback_case)     # register button callback function with the button\n",
    "\n"
   ]
  },
  {
   "cell_type": "code",
   "execution_count": 4,
   "metadata": {},
   "outputs": [
    {
     "data": {
      "application/vnd.jupyter.widget-view+json": {
       "model_id": "947d9e34e6304e9bb93e58cf451fb292",
       "version_major": 2,
       "version_minor": 0
      },
      "text/plain": [
       "Button(button_style='warning', description='Update data', icon='repeat', style=ButtonStyle(), tooltip='Click t…"
      ]
     },
     "metadata": {},
     "output_type": "display_data"
    },
    {
     "data": {
      "application/vnd.jupyter.widget-view+json": {
       "model_id": "a55ad0d70da647a69d2781be189ede07",
       "version_major": 2,
       "version_minor": 0
      },
      "text/plain": [
       "HBox(children=(SelectMultiple(description='Stats:', index=(0,), options=('cases', 'vaccines'), rows=2, value=(…"
      ]
     },
     "metadata": {},
     "output_type": "display_data"
    },
    {
     "data": {
      "application/vnd.jupyter.widget-view+json": {
       "model_id": "a5c2e406de4942b2bf66814403216e59",
       "version_major": 2,
       "version_minor": 0
      },
      "text/plain": [
       "Output()"
      ]
     },
     "metadata": {},
     "output_type": "display_data"
    }
   ],
   "source": [
    "def casetest_graph(cols, scale):        # Plot the graph\n",
    "    if scale=='linear':\n",
    "        logscale=False\n",
    "    else:\n",
    "        logscale=True\n",
    "    ncols=len(cols)\n",
    "    if ncols>0:\n",
    "        casetest_df[list(cols)].plot(logy=logscale,linewidth=1, marker='o', markersize=3, markerfacecolor='w')\n",
    "        plt.title(label='Plot graph about the number of new cases & new vaccines given',fontsize=18)\n",
    "        plt.ylabel('Number',fontsize=14)\n",
    "        plt.xlabel('Date',fontsize=14)\n",
    "        plt.show() # important - graphs won't update if this is missing \n",
    "    else:\n",
    "        print(\"Click to select data for graph\")\n",
    "        print(\"(CTRL-Click to select more than one category)\")\n",
    "        \n",
    "serie=wdg.SelectMultiple(       # control_1, will be used to to plot the graph again\n",
    "    options=['cases', 'vaccines'],\n",
    "    value=['cases'],\n",
    "    rows=2,\n",
    "    description='Stats:',\n",
    "    disabled=False\n",
    ")\n",
    "scale=wdg.RadioButtons(         # control_2\n",
    "    options=['linear', 'log'],\n",
    "    layout={'width': 'max-content'}, # If the items' names are long\n",
    "    description='Scale:',\n",
    "    disabled=False\n",
    ")\n",
    "def refresh_graph():        # redraw the graph when updated\n",
    "    current=serie.value\n",
    "    if serie.value==serie.options:\n",
    "        other=serie.options[-1]\n",
    "    else:    \n",
    "        other=serie.options\n",
    "    serie.value=other\n",
    "    time.sleep(0.2)\n",
    "    serie.value=current\n",
    "\n",
    "controls = wdg.HBox([serie,scale])      # merge into one control interface\n",
    "\n",
    "graph=wdg.interactive_output(casetest_graph, {'cols': serie, 'scale': scale})\n",
    "\n",
    "display(apibutton_case, controls, graph)"
   ]
  },
  {
   "cell_type": "markdown",
   "metadata": {},
   "source": [
    "## Age distribution data"
   ]
  },
  {
   "cell_type": "markdown",
   "metadata": {},
   "source": [
    "Here is a grouped bar chart which compares the distribution of cases by sex and age bands in England.\n",
    "\n",
    "Again, a ```SelectMultiple``` widget is available for you to select the stats that to be shown in the graph (Multiple values can be selected with shift and/or ctrl (or command) pressed and mouse clicks). On top of the graph, a \"UPDATE\" button can be used to retrieve the latest data and refresh the graph immediately. "
   ]
  },
  {
   "cell_type": "code",
   "execution_count": 5,
   "metadata": {},
   "outputs": [
    {
     "data": {
      "application/vnd.jupyter.widget-view+json": {
       "model_id": "ee2075d9861b425ea8003e18b50562c5",
       "version_major": 2,
       "version_minor": 0
      },
      "text/plain": [
       "Button(button_style='warning', description='Update data', icon='repeat', style=ButtonStyle(), tooltip='Click t…"
      ]
     },
     "metadata": {},
     "output_type": "display_data"
    },
    {
     "data": {
      "application/vnd.jupyter.widget-view+json": {
       "model_id": "7d897186787a4612a9e33fdf70adcd5e",
       "version_major": 2,
       "version_minor": 0
      },
      "text/plain": [
       "SelectMultiple(description='Sex', index=(0, 1), options=('males', 'females', 'total'), rows=3, value=('males',…"
      ]
     },
     "metadata": {},
     "output_type": "display_data"
    },
    {
     "data": {
      "application/vnd.jupyter.widget-view+json": {
       "model_id": "99a81d3caf1b40a984340206944b6fb0",
       "version_major": 2,
       "version_minor": 0
      },
      "text/plain": [
       "Output()"
      ]
     },
     "metadata": {},
     "output_type": "display_data"
    }
   ],
   "source": [
    "jsondata_age = \"agedistribution.json\" \n",
    "\n",
    "def min_age(agerange):\n",
    "    agerange=agerange.replace('+','') # remove the + from 90+\n",
    "    start=agerange.split('_')[0]\n",
    "    return int(start)\n",
    "\n",
    "def wrangle_data_age(rawdata):\n",
    "    with open(rawdata, \"rt\") as INFILE:\n",
    "        data=json.load(INFILE)\n",
    "    datadic=data['data'][0] # data['data'] is a list\n",
    "    males=datadic['males']\n",
    "    females=datadic['females']\n",
    "    ageranges=[x['age'] for x in males] # each entry of males is a dictionary\n",
    "    ageranges.sort(key=min_age)\n",
    "    age_df=pd.DataFrame(index=ageranges, columns=['males','females', 'total'])  # build a Dataframe without value\n",
    "    for entry in males: # each entry is a dictionary\n",
    "        ageband=entry['age'] # our index position\n",
    "        age_df.loc[ageband, 'males']=entry['value']     # input value into df\n",
    "    for entry in females:\n",
    "        ageband=entry['age']\n",
    "        age_df.loc[ageband, 'females']=entry['value']\n",
    "    age_df['total']=age_df['males']+age_df['females']       # another way to input value into df\n",
    "    return age_df\n",
    "\n",
    "age_df=wrangle_data_age(jsondata_age)\n",
    "\n",
    "def access_api():\n",
    "    filters = ['areaType=nation',\n",
    "    'areaName=England']\n",
    "    structure = {\n",
    "        \"males\": \"maleCases\",\n",
    "        \"females\": \"femaleCases\"\n",
    "        }\n",
    "    api = Cov19API(filters=filters, structure=structure)\n",
    "    agedistribution=api.get_json()                         # it's a dict\n",
    "    with open(\"agedistribution.json\", \"wt\") as OUTF:       # save it into .json from dict\n",
    "        json.dump(agedistribution, OUTF)\n",
    "    return(\"agedistribution.json\")\n",
    "\n",
    "def api_button_callback(button):\n",
    "    \"\"\" Accesses API, wrangles data, updates global variable df used for plotting.\n",
    "        A warning statement will pop out if the raw data is unavailable \"\"\"\n",
    "    try:\n",
    "        apidata=access_api() \n",
    "    except:\n",
    "        raise 'The data cannot be updated as the Public Health England (PHE) server cannot be reached right now '\n",
    "    else:\n",
    "        global df\n",
    "        df = wrangle_data_age(apidata)\n",
    "        refresh_graph()\n",
    "    finally:\n",
    "        apibutton.icon=\"check\"          # give user some feedbacks when the graph has been refreshed\n",
    "        apibutton.description=\"Data updated\"\n",
    "        apibutton.button_style='success'\n",
    "        apibutton.disabled=True\n",
    "    \n",
    "apibutton=wdg.Button(\n",
    "    description='Update data', \n",
    "    disabled=False,\n",
    "    button_style='warning', \n",
    "    tooltip=\"Click to download current Public Health England data\",\n",
    "    icon='repeat'\n",
    ")\n",
    "apibutton.on_click(api_button_callback)     # register button callback function with the button\n",
    "\n",
    "agecols=wdg.SelectMultiple(\n",
    "    options=['males', 'females', 'total'], # options available\n",
    "    value=['males','females'], # initial value\n",
    "    rows=3, # rows of the selection box\n",
    "    description='Sex',\n",
    "    disabled=False\n",
    ")\n",
    "\n",
    "def age_graph(graphcolumns):\n",
    "    ncols=len(graphcolumns)\n",
    "    if ncols>0:\n",
    "        age_df.plot(kind='bar', y=list(graphcolumns), width=0.7, alpha=0.8) # graphcolumns is a tuple - we need a list\n",
    "        plt.title('Bar chart about the distribution of cases by sex and age bands',fontsize=18)\n",
    "        plt.xlabel('Number', fontsize=14)\n",
    "        plt.ylabel('Age bands', fontsize=14)\n",
    "        plt.show() # important - graphs won't update properly if this is missing\n",
    "    else:\n",
    "        # if the user has not selected any column, print a message instead\n",
    "        print(\"Click to select data for graph\")\n",
    "        print(\"(CTRL-Click to select more than one category)\")\n",
    "    \n",
    "# keep calling age_graph(graphcolumns=value_of_agecols); capture output in widget output    \n",
    "output=wdg.interactive_output(age_graph, {'graphcolumns': agecols})\n",
    "\n",
    "display(apibutton, agecols, output)"
   ]
  },
  {
   "cell_type": "markdown",
   "metadata": {},
   "source": [
    "**Acknowledge and Copyright Notice** \n",
    "\n",
    "This website and its content is only to be used by the signatories for the coursework and research work at the Queen Mary University. All rights reserved. \n",
    "\n",
    "Data Source: *Based on UK Government [data](https://coronavirus.data.gov.uk/) published by [Public Health England](https://www.gov.uk/government/organisations/public-health-england).*\n",
    "\n",
    "Author: *Wong Chuen Lik Daniel*\n",
    "\n",
    "Last modified date: *2021-12-9* "
   ]
  }
 ],
 "metadata": {
  "interpreter": {
   "hash": "aee8b7b246df8f9039afb4144a1f6fd8d2ca17a180786b69acc140d282b71a49"
  },
  "kernelspec": {
   "display_name": "Python 3 (ipykernel)",
   "language": "python",
   "name": "python3"
  },
  "language_info": {
   "codemirror_mode": {
    "name": "ipython",
    "version": 3
   },
   "file_extension": ".py",
   "mimetype": "text/x-python",
   "name": "python",
   "nbconvert_exporter": "python",
   "pygments_lexer": "ipython3",
   "version": "3.8.7"
  }
 },
 "nbformat": 4,
 "nbformat_minor": 2
}
